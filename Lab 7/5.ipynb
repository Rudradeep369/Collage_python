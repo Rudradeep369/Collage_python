{
 "cells": [
  {
   "cell_type": "code",
   "execution_count": 1,
   "id": "fb6431f3-a8b2-48c4-b888-6eae0b38a7d0",
   "metadata": {
    "scrolled": true
   },
   "outputs": [
    {
     "name": "stdout",
     "output_type": "stream",
     "text": [
      "Requirement already satisfied: scikit-image in c:\\users\\rudradeep\\desktop\\python\\pythoncollage\\venv\\lib\\site-packages (0.24.0)\n",
      "Requirement already satisfied: numpy>=1.23 in c:\\users\\rudradeep\\desktop\\python\\pythoncollage\\venv\\lib\\site-packages (from scikit-image) (1.26.4)\n",
      "Requirement already satisfied: scipy>=1.9 in c:\\users\\rudradeep\\desktop\\python\\pythoncollage\\venv\\lib\\site-packages (from scikit-image) (1.14.1)\n",
      "Requirement already satisfied: networkx>=2.8 in c:\\users\\rudradeep\\desktop\\python\\pythoncollage\\venv\\lib\\site-packages (from scikit-image) (3.3)\n",
      "Requirement already satisfied: pillow>=9.1 in c:\\users\\rudradeep\\desktop\\python\\pythoncollage\\venv\\lib\\site-packages (from scikit-image) (10.4.0)\n",
      "Requirement already satisfied: imageio>=2.33 in c:\\users\\rudradeep\\desktop\\python\\pythoncollage\\venv\\lib\\site-packages (from scikit-image) (2.35.1)\n",
      "Requirement already satisfied: tifffile>=2022.8.12 in c:\\users\\rudradeep\\desktop\\python\\pythoncollage\\venv\\lib\\site-packages (from scikit-image) (2024.8.30)\n",
      "Requirement already satisfied: packaging>=21 in c:\\users\\rudradeep\\desktop\\python\\pythoncollage\\venv\\lib\\site-packages (from scikit-image) (24.1)\n",
      "Requirement already satisfied: lazy-loader>=0.4 in c:\\users\\rudradeep\\desktop\\python\\pythoncollage\\venv\\lib\\site-packages (from scikit-image) (0.4)\n",
      "Note: you may need to restart the kernel to use updated packages.\n"
     ]
    }
   ],
   "source": [
    "pip install scikit-image"
   ]
  },
  {
   "cell_type": "code",
   "execution_count": 2,
   "id": "57a49a97-3ea5-4888-b195-0a2721ef4b18",
   "metadata": {},
   "outputs": [],
   "source": [
    "import os\n",
    "import numpy as np\n",
    "import cv2\n",
    "from skimage.feature import hog\n",
    "from skimage import exposure\n",
    "from sklearn import svm\n",
    "from sklearn.model_selection import train_test_split\n",
    "from sklearn.metrics import classification_report, accuracy_score\n",
    "from sklearn.preprocessing import LabelEncoder\n",
    "from tensorflow.keras.preprocessing.image import ImageDataGenerator"
   ]
  },
  {
   "cell_type": "code",
   "execution_count": 3,
   "id": "fde29027-c1ac-40ef-8745-a3bdd575a2a0",
   "metadata": {},
   "outputs": [],
   "source": [
    "dataset_path = r\"C:\\Users\\Rudradeep\\Desktop\\Python\\pythonCollage\\Collage_python\\Lab 7\\flowers\"  \n",
    "\n",
    "# Parameters\n",
    "image_size = (64, 64)  \n",
    "batch_size = 32\n",
    "\n",
    "data_gen = ImageDataGenerator(rescale=1./255, validation_split=0.2)"
   ]
  },
  {
   "cell_type": "code",
   "execution_count": 4,
   "id": "13315659-751a-4c21-88a5-ad36b0fbf3e4",
   "metadata": {},
   "outputs": [
    {
     "name": "stdout",
     "output_type": "stream",
     "text": [
      "Found 3457 images belonging to 5 classes.\n",
      "Found 860 images belonging to 5 classes.\n"
     ]
    }
   ],
   "source": [
    "train_data_gen = data_gen.flow_from_directory(\n",
    "    directory=dataset_path,\n",
    "    target_size=image_size,\n",
    "    batch_size=batch_size,\n",
    "    class_mode='categorical',\n",
    "    subset='training'\n",
    ")\n",
    "\n",
    "val_data_gen = data_gen.flow_from_directory(\n",
    "    directory=dataset_path,\n",
    "    target_size=image_size,\n",
    "    batch_size=batch_size,\n",
    "    class_mode='categorical',\n",
    "    subset='validation'\n",
    ")\n"
   ]
  },
  {
   "cell_type": "code",
   "execution_count": 17,
   "id": "6976ca85-4982-4149-9e99-7c57e8a3170d",
   "metadata": {},
   "outputs": [],
   "source": [
    "class_names = list(train_data_gen.class_indices.keys())\n",
    "\n",
    "def extract_features_and_labels(data_gen):\n",
    "    features = []\n",
    "    labels = []\n",
    "    for batch_images, batch_labels in data_gen:\n",
    "        for image, label in zip(batch_images, batch_labels):\n",
    "            gray_image = cv2.cvtColor((image * 255).astype(np.uint8), cv2.COLOR_RGB2GRAY)\n",
    " \n",
    "            hog_features = hog(gray_image, pixels_per_cell=(8, 8), cells_per_block=(2, 2), visualize=False)\n",
    "            features.append(hog_features)\n",
    "            labels.append(np.argmax(label))  \n",
    "    \n",
    "        if len(features) >= data_gen.samples:\n",
    "            break\n",
    "    return np.array(features), np.array(labels)"
   ]
  },
  {
   "cell_type": "code",
   "execution_count": 18,
   "id": "954c1ddf-d500-4e82-a513-051059ec6bf3",
   "metadata": {},
   "outputs": [
    {
     "name": "stdout",
     "output_type": "stream",
     "text": [
      "Classification Report:\n",
      "              precision    recall  f1-score   support\n",
      "\n",
      "       daisy       0.34      0.40      0.37       152\n",
      "   dandelion       0.42      0.45      0.44       210\n",
      "        rose       0.31      0.29      0.30       156\n",
      "   sunflower       0.32      0.34      0.33       146\n",
      "       tulip       0.42      0.34      0.38       196\n",
      "\n",
      "    accuracy                           0.37       860\n",
      "   macro avg       0.36      0.36      0.36       860\n",
      "weighted avg       0.37      0.37      0.37       860\n",
      "\n",
      "Accuracy Score:\n",
      "0.3686046511627907\n"
     ]
    }
   ],
   "source": [
    "X_train, y_train = extract_features_and_labels(train_data_gen)\n",
    "X_val, y_val = extract_features_and_labels(val_data_gen)\n",
    "\n",
    "# Encode labels\n",
    "le = LabelEncoder()\n",
    "y_train = le.fit_transform(y_train)\n",
    "y_val = le.transform(y_val)\n",
    "\n",
    "# Train SVM Classifier\n",
    "clf = svm.SVC(kernel='linear')  # Linear kernel\n",
    "clf.fit(X_train, y_train)\n",
    "\n",
    "# Predict and evaluate\n",
    "y_pred = clf.predict(X_val)\n",
    "\n",
    "# Print classification report and accuracy\n",
    "print(\"Classification Report:\")\n",
    "print(classification_report(y_val, y_pred, target_names=class_names))\n",
    "print(\"Accuracy Score:\")\n",
    "print(accuracy_score(y_val, y_pred))"
   ]
  },
  {
   "cell_type": "code",
   "execution_count": null,
   "id": "fcc00f42-51b9-4d79-9c46-2a974bfbc3e1",
   "metadata": {},
   "outputs": [],
   "source": []
  }
 ],
 "metadata": {
  "kernelspec": {
   "display_name": "Python 3 (ipykernel)",
   "language": "python",
   "name": "python3"
  },
  "language_info": {
   "codemirror_mode": {
    "name": "ipython",
    "version": 3
   },
   "file_extension": ".py",
   "mimetype": "text/x-python",
   "name": "python",
   "nbconvert_exporter": "python",
   "pygments_lexer": "ipython3",
   "version": "3.12.4"
  }
 },
 "nbformat": 4,
 "nbformat_minor": 5
}
