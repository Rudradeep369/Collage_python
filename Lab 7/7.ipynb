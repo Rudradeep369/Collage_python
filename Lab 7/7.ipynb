{
 "cells": [
  {
   "cell_type": "code",
   "execution_count": 1,
   "id": "337c1cc7-d92d-4ebd-a497-3861a39c9ce9",
   "metadata": {},
   "outputs": [],
   "source": [
    "import os\n",
    "import cv2\n",
    "import numpy as np\n",
    "from sklearn import svm\n",
    "from sklearn.metrics import accuracy_score, classification_report\n",
    "from sklearn.model_selection import train_test_split\n",
    "from tensorflow.keras.preprocessing.image import ImageDataGenerator"
   ]
  },
  {
   "cell_type": "code",
   "execution_count": 2,
   "id": "6d9871df-2629-40ac-928c-e49ecf4321cc",
   "metadata": {},
   "outputs": [],
   "source": [
    "dataset_path = r'C:\\Users\\Rudradeep\\Desktop\\Python\\pythonCollage\\Collage_python\\Lab 7\\flowers'\n",
    "IMG_SIZE = (128, 128)"
   ]
  },
  {
   "cell_type": "code",
   "execution_count": 3,
   "id": "5d9462ad-5989-44f8-a27a-353910493fd6",
   "metadata": {},
   "outputs": [],
   "source": [
    "\n",
    "def load_images_from_folder(folder):\n",
    "    images = []\n",
    "    labels = []\n",
    "    label_names = os.listdir(folder)\n",
    "    for label_index, label_name in enumerate(label_names):\n",
    "        label_folder = os.path.join(folder, label_name)\n",
    "        if os.path.isdir(label_folder):\n",
    "            for filename in os.listdir(label_folder):\n",
    "                img_path = os.path.join(label_folder, filename)\n",
    "                img = cv2.imread(img_path)\n",
    "                if img is not None:\n",
    "                    img = cv2.resize(img, IMG_SIZE)  \n",
    "                    img = cv2.cvtColor(img, cv2.COLOR_BGR2GRAY)  \n",
    "                    images.append(img.flatten())  \n",
    "                    labels.append(label_index)\n",
    "    return np.array(images), np.array(labels), label_names"
   ]
  },
  {
   "cell_type": "code",
   "execution_count": 4,
   "id": "368558bb-39ef-4ac7-a147-2dbda331c1d5",
   "metadata": {},
   "outputs": [
    {
     "name": "stdout",
     "output_type": "stream",
     "text": [
      "Loading dataset...\n"
     ]
    }
   ],
   "source": [
    "print(\"Loading dataset...\")\n",
    "x, y, label_names = load_images_from_folder(dataset_path)\n",
    "\n",
    "x = x / 255.0"
   ]
  },
  {
   "cell_type": "code",
   "execution_count": 5,
   "id": "8a1b8c5e-2e5d-4212-b925-6e63f425b367",
   "metadata": {},
   "outputs": [
    {
     "name": "stdout",
     "output_type": "stream",
     "text": [
      "Training the SVM model...\n",
      "Testing the model...\n",
      "Test Accuracy: 28.70%\n",
      "\n",
      "Classification Report:\n",
      "              precision    recall  f1-score   support\n",
      "\n",
      "       daisy       0.28      0.29      0.29       162\n",
      "   dandelion       0.34      0.44      0.38       223\n",
      "        rose       0.21      0.22      0.21       155\n",
      "   sunflower       0.27      0.19      0.22       135\n",
      "       tulip       0.29      0.22      0.25       189\n",
      "\n",
      "    accuracy                           0.29       864\n",
      "   macro avg       0.28      0.27      0.27       864\n",
      "weighted avg       0.28      0.29      0.28       864\n",
      "\n"
     ]
    }
   ],
   "source": [
    "x_train, x_test, y_train, y_test = train_test_split(x, y, test_size=0.2, random_state=42)\n",
    "\n",
    "clf = svm.SVC(kernel='linear')\n",
    "print(\"Training the SVM model...\")\n",
    "clf.fit(x_train, y_train)\n",
    "print(\"Testing the model...\")\n",
    "y_pred = clf.predict(x_test)\n",
    "accuracy = accuracy_score(y_test, y_pred)\n",
    "print(f\"Test Accuracy: {accuracy * 100:.2f}%\")\n",
    "print(\"\\nClassification Report:\")\n",
    "print(classification_report(y_test, y_pred, target_names=label_names))\n"
   ]
  },
  {
   "cell_type": "code",
   "execution_count": null,
   "id": "da85490b-dc69-4eb6-bf0d-4be5b28528cc",
   "metadata": {},
   "outputs": [],
   "source": []
  }
 ],
 "metadata": {
  "kernelspec": {
   "display_name": "Python 3 (ipykernel)",
   "language": "python",
   "name": "python3"
  },
  "language_info": {
   "codemirror_mode": {
    "name": "ipython",
    "version": 3
   },
   "file_extension": ".py",
   "mimetype": "text/x-python",
   "name": "python",
   "nbconvert_exporter": "python",
   "pygments_lexer": "ipython3",
   "version": "3.12.4"
  }
 },
 "nbformat": 4,
 "nbformat_minor": 5
}
